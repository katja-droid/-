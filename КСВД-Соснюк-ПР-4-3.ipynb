{
 "cells": [
  {
   "cell_type": "code",
   "execution_count": 1,
   "id": "8af759e8-d1be-4674-a58b-031ec4966276",
   "metadata": {},
   "outputs": [
    {
     "data": {
      "image/png": "[encoded data removed]",
      "text/plain": [
       "<Figure size 640x480 with 1 Axes>"
      ]
     },
     "metadata": {},
     "output_type": "display_data"
    }
   ],
   "source": [
    "# СОСНЮК КАТЕРИНА ФІТ 4-6 ВАРІАНТ 22 \n",
    "# Намалювати килим Серпинського.\n",
    "import matplotlib.pyplot as plt\n",
    "\n",
    "def draw_carpet(x, y, size, depth, ax):\n",
    "    if depth == 0:\n",
    "        ax.add_patch(plt.Rectangle((x, y), size, size, edgecolor='black', facecolor='black'))\n",
    "    else:\n",
    "        new_size = size / 3\n",
    "        for i in range(3):\n",
    "            for j in range(3):\n",
    "                if i != 1 or j != 1:\n",
    "                    draw_carpet(x + i * new_size, y + j * new_size, new_size, depth - 1, ax)\n",
    "\n",
    "def sierpinski_carpet(size, depth):\n",
    "    fig, ax = plt.subplots()\n",
    "    ax.set_aspect('equal')\n",
    "    ax.set_axis_off()\n",
    "    draw_carpet(0, 0, size, depth, ax)\n",
    "    plt.show()\n",
    "\n",
    "sierpinski_carpet(1, 3)\n"
   ]
  },
  {
   "cell_type": "code",
   "execution_count": null,
   "id": "81deba19-7150-43e3-85e1-6de2701f7a59",
   "metadata": {},
   "outputs": [],
   "source": []
  }
 ],
 "metadata": {
  "kernelspec": {
   "display_name": "Python 3 (ipykernel)",
   "language": "python",
   "name": "python3"
  },
  "language_info": {
   "codemirror_mode": {
    "name": "ipython",
    "version": 3
   },
   "file_extension": ".py",
   "mimetype": "text/x-python",
   "name": "python",
   "nbconvert_exporter": "python",
   "pygments_lexer": "ipython3",
   "version": "3.11.7"
  }
 },
 "nbformat": 4,
 "nbformat_minor": 5
}
